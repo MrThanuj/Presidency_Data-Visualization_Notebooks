{
  "nbformat": 4,
  "nbformat_minor": 0,
  "metadata": {
    "kernelspec": {
      "display_name": "Python 3",
      "language": "python",
      "name": "python3"
    },
    "language_info": {
      "codemirror_mode": {
        "name": "ipython",
        "version": 3
      },
      "file_extension": ".py",
      "mimetype": "text/x-python",
      "name": "python",
      "nbconvert_exporter": "python",
      "pygments_lexer": "ipython3",
      "version": "3.8.3"
    },
    "colab": {
      "name": "Lab_1_Numpy.ipynb",
      "provenance": [],
      "include_colab_link": true
    }
  },
  "cells": [
    {
      "cell_type": "markdown",
      "metadata": {
        "id": "view-in-github",
        "colab_type": "text"
      },
      "source": [
        "<a href=\"https://colab.research.google.com/github/MrThanuj/Presidency_Data-Visualization_Notebooks/blob/master/Lab_1_Numpy.ipynb\" target=\"_parent\"><img src=\"https://colab.research.google.com/assets/colab-badge.svg\" alt=\"Open In Colab\"/></a>"
      ]
    },
    {
      "cell_type": "markdown",
      "metadata": {
        "id": "a5DNtLGlMQBz",
        "colab_type": "text"
      },
      "source": [
        "# **Numpy**\n",
        "-----\n",
        "Numpy is the core library for scientific computing in Python. It provides a high-performance multidimensional array object, and tools for working with these arrays.\n",
        "## Arrays\n",
        "-----\n",
        "1. A numpy array is a grid of values, all of the same type, and is indexed by a tuple of nonnegative integers. \n",
        "2. The number of dimensions is the rank of the array; \n",
        "3. the shape of an array is a tuple of integers giving the size of the array along each dimension.\n",
        "\n",
        "4. We can initialize numpy arrays from nested Python lists, and access elements using square brackets:"
      ]
    },
    {
      "cell_type": "markdown",
      "metadata": {
        "id": "-PyPGNW7MQB1",
        "colab_type": "text"
      },
      "source": [
        "# NumPy Basics\n",
        "\n",
        "| Operator\t| Description |\n",
        "|:-----------|:-------------|\n",
        "| np.array([1,2,3])\t| 1d array|\n",
        "| np.array([(1,2,3),(4,5,6)])\t| 2d array|\n",
        "| np.arange(start,stop,step)\t| range array|\n",
        "\n",
        "\n",
        "![alt text](https://www.w3resource.com/w3r_images/python-numpy-arrays-image.png)\n",
        "\n",
        "# Placeholders\n",
        "\n",
        "Operator\t| Description\n",
        ":-----------|:-------------\n",
        "np.linspace(0,2,9)\t| Add evenly spaced values btw interval to array of length\n",
        "np.zeros((1,2))\t| Create and array filled with zeros\n",
        "np.ones((1,2))\t| Creates an array filled with ones\n",
        "np.random.random((5,5))\t| Creates random array\n",
        "np.empty((2,2))\t| Creates an empty array\n",
        "\n",
        "\n",
        "# Array\n",
        "\n",
        "Syntax\t| Description\n",
        ":-----------|:-------------\n",
        "array.shape\t| Dimensions (Rows,Columns)\n",
        "len(array)\t| Length of Array\n",
        "array.ndim\t| Number of Array Dimensions\n",
        "array.dtype\t| Data Type\n",
        "array.astype(type)\t| Converts to Data Type\n",
        "type(array)\t| Type of Array\n",
        "\n",
        "\n",
        "# Copying/Sorting\n",
        "\n",
        "Operators\t| Description\n",
        ":-----------|:-------------\n",
        "np.copy(array)\t| Creates copy of array\n",
        "other = array.copy()\t| Creates deep copy of array\n",
        "array.sort()\t| Sorts an array\n",
        "array.sort(axis=0)\t| Sorts axis of array\n",
        "\n",
        "\n",
        "# Array Manipulation\n",
        "\n",
        "# Adding or Removing Elements\n",
        "\n",
        "Operator\t| Description\n",
        ":-----------|:-------------\n",
        "np.append(a,b)\t| Append items to array\n",
        "np.insert(array, 1, 2, axis)\t| Insert items into array at axis 0 or 1\n",
        "np.resize((2,4))\t| Resize array to shape(2,4)\n",
        "np.delete(array,1,axis)\t| Deletes items from array\n",
        "\n",
        "\n",
        "# Combining Arrays\n",
        "\n",
        "Operator\t| Description\n",
        ":-----------|:-------------\n",
        "np.concatenate((a,b),axis=0)\t| Concatenates 2 arrays, adds to end\n",
        "np.vstack((a,b))\t| Stack array row-wise\n",
        "np.hstack((a,b))\t| Stack array column wise\n",
        "\n",
        "# Splitting Arrays\n",
        "\n",
        "Operator\t| Description\n",
        ":-----------|:-------------\n",
        "numpy.split()\t| Split an array into multiple sub-arrays.\n",
        "np.array_split(array, 3)\t| Split an array in sub-arrays of (nearly) identical size\n",
        "numpy.hsplit(array, 3)\t| Split the array horizontally at 3rd index\n",
        "\n",
        "# More\n",
        "\n",
        "Operator\t| Description\n",
        ":-----------|:-------------\n",
        "other = ndarray.flatten()\t| Flattens a 2d array to 1d\n",
        "array = np.transpose(other)\n",
        "array.T\tTranspose array\n",
        "inverse = np.linalg.inv(matrix)\t| Inverse of a given matrix\n",
        "Mathematics\n",
        "\n",
        "# Operations\n",
        "\n",
        "Operator\t| Description\n",
        ":-----------|:-------------\n",
        "np.add(x,y)\n",
        "x + y\t| Addition\n",
        "np.substract(x,y)\n",
        "x - y\t| Subtraction\n",
        "np.divide(x,y)\n",
        "x / y\t| Division\n",
        "np.multiply(x,y)\n",
        "x @ y\t| Multiplication\n",
        "np.sqrt(x)\t| Square Root\n",
        "np.sin(x)\t| Element-wise sine\n",
        "np.cos(x)\t| Element-wise cosine\n",
        "np.log(x)\t| Element-wise natural log\n",
        "np.dot(x,y)\t| Dot product\n",
        "np.roots([1,0,-4])\t| Roots of a given polynomial coefficients\n",
        "\n",
        "# Comparison\n",
        "\n",
        "Operator\t| Description\n",
        ":-----------|:-------------\n",
        "==\t| Equal\n",
        "!=\t| Not equal\n",
        "<\t| Smaller than\n",
        ">\t| Greater than\n",
        "<=\t| Smaller than or equal\n",
        ">=\t| Greater than or equal\n",
        "np.array_equal(x,y)\t| Array-wise comparison\n",
        "\n",
        "# Basic Statistics\n",
        "\n",
        "Operator\t| Description\n",
        ":-----------|:-------------\n",
        "np.mean(array)\t| Mean\n",
        "np.median(array)\t| Median\n",
        "array.corrcoef()\t| Correlation Coefficient\n",
        "np.std(array)\t| Standard Deviation\n",
        "\n",
        "# More\n",
        "\n",
        "Operator\t| Description\n",
        ":-----------|:-------------\n",
        "array.sum()\t| Array-wise sum\n",
        "array.min()\t| Array-wise minimum value\n",
        "array.max(axis=0)\t| Maximum value of specified axis\n",
        "array.cumsum(axis=0)\t| Cumulative sum of specified axis\n",
        "\n",
        "# Slicing and Subsetting\n",
        "\n",
        "Operator\t| Description\n",
        ":-----------|:-------------\n",
        "array[i]\t| 1d array at index i\n",
        "array[i,j]\t| 2d array at index[i][j]\n",
        "array[i<4]\t| Boolean Indexing, see Tricks\n",
        "array[0:3]\t| Select items of index 0, 1 and 2\n",
        "array[0:2,1]\t| Select items of rows 0 and 1 at column 1\n",
        "array[:1]\t| Select items of row 0 (equals array[0:1, :])\n",
        "array[1:2, :]\t| Select items of row 1\n",
        "[comment]: <> | (\tarray[1,...]\n",
        "array[ : :-1]\t| Reverses array\n"
      ]
    },
    {
      "cell_type": "markdown",
      "metadata": {
        "id": "FFJFhNh3MQB3",
        "colab_type": "text"
      },
      "source": [
        "## 1. Installation"
      ]
    },
    {
      "cell_type": "markdown",
      "metadata": {
        "id": "RqrojJNEMQB5",
        "colab_type": "text"
      },
      "source": [
        "pip install numpy"
      ]
    },
    {
      "cell_type": "markdown",
      "metadata": {
        "id": "DjgxPEm5MQB6",
        "colab_type": "text"
      },
      "source": [
        "## 2. Motivation"
      ]
    },
    {
      "cell_type": "markdown",
      "metadata": {
        "id": "fgdNF_HdMQB8",
        "colab_type": "text"
      },
      "source": [
        "Numpy provides extension package to python for multi dimensional arrays.<br>\n",
        "Also known as array oriented computing."
      ]
    },
    {
      "cell_type": "markdown",
      "metadata": {
        "id": "8OmI5SHrMQB_",
        "colab_type": "text"
      },
      "source": [
        "### creating array in numpy"
      ]
    },
    {
      "cell_type": "code",
      "metadata": {
        "id": "2VI9OjGVMQCB",
        "colab_type": "code",
        "colab": {
          "base_uri": "https://localhost:8080/",
          "height": 51
        },
        "outputId": "8806e2ca-a1c4-4258-fb9c-61a2b25fb5e4"
      },
      "source": [
        "import numpy as np\n",
        "\n",
        "a = np.arange(10) #using arange function\n",
        "print(a)\n",
        "\n",
        "b = np.array([1,2,3,4,5]) #creating array from list\n",
        "print(b)"
      ],
      "execution_count": 1,
      "outputs": [
        {
          "output_type": "stream",
          "text": [
            "[0 1 2 3 4 5 6 7 8 9]\n",
            "[1 2 3 4 5]\n"
          ],
          "name": "stdout"
        }
      ]
    },
    {
      "cell_type": "markdown",
      "metadata": {
        "id": "OnM_ib1tMQCK",
        "colab_type": "text"
      },
      "source": [
        "### why to use numpy ?"
      ]
    },
    {
      "cell_type": "code",
      "metadata": {
        "id": "_f_dn1CAMQCM",
        "colab_type": "code",
        "colab": {
          "base_uri": "https://localhost:8080/",
          "height": 34
        },
        "outputId": "2e652920-fee2-4a9d-cf0e-8ebb8107a295"
      },
      "source": [
        "L = range(1000)\n",
        "%timeit [i**2 for i in L]"
      ],
      "execution_count": 5,
      "outputs": [
        {
          "output_type": "stream",
          "text": [
            "1000 loops, best of 3: 292 µs per loop\n"
          ],
          "name": "stdout"
        }
      ]
    },
    {
      "cell_type": "code",
      "metadata": {
        "id": "RguizmWYMQCZ",
        "colab_type": "code",
        "colab": {
          "base_uri": "https://localhost:8080/",
          "height": 51
        },
        "outputId": "58b38c8c-fc3e-4d53-a6b5-652ba7d6f982"
      },
      "source": [
        "A = np.arange(1000)\n",
        "%timeit A**2"
      ],
      "execution_count": 3,
      "outputs": [
        {
          "output_type": "stream",
          "text": [
            "The slowest run took 17.60 times longer than the fastest. This could mean that an intermediate result is being cached.\n",
            "100000 loops, best of 3: 2.09 µs per loop\n"
          ],
          "name": "stdout"
        }
      ]
    },
    {
      "cell_type": "code",
      "metadata": {
        "id": "rFuEpOskMQCk",
        "colab_type": "code",
        "colab": {
          "base_uri": "https://localhost:8080/",
          "height": 34
        },
        "outputId": "b4cd661e-2d1e-4ca8-9837-ce8c4ad4444e"
      },
      "source": [
        "print(\"Numpy implementation is {0} times faster than lists implementation\".format(272/1.25))"
      ],
      "execution_count": 4,
      "outputs": [
        {
          "output_type": "stream",
          "text": [
            "Numpy implementation is 217.6 times faster than lists implementation\n"
          ],
          "name": "stdout"
        }
      ]
    },
    {
      "cell_type": "markdown",
      "metadata": {
        "id": "il4JHvuwMQCs",
        "colab_type": "text"
      },
      "source": [
        "## 3. Creating arrays"
      ]
    },
    {
      "cell_type": "markdown",
      "metadata": {
        "id": "cCO9xfquMQCu",
        "colab_type": "text"
      },
      "source": [
        "### 3.1. Manual construction of the arrays"
      ]
    },
    {
      "cell_type": "code",
      "metadata": {
        "id": "srlv9XBVMQCx",
        "colab_type": "code",
        "colab": {
          "base_uri": "https://localhost:8080/",
          "height": 34
        },
        "outputId": "104e1837-5d67-4737-d7fb-05d6a65fcce8"
      },
      "source": [
        "#create 1 - D array #vector\n",
        "a = np.array([1,2,3,4,5])\n",
        "\n",
        "a"
      ],
      "execution_count": 6,
      "outputs": [
        {
          "output_type": "execute_result",
          "data": {
            "text/plain": [
              "array([1, 2, 3, 4, 5])"
            ]
          },
          "metadata": {
            "tags": []
          },
          "execution_count": 6
        }
      ]
    },
    {
      "cell_type": "code",
      "metadata": {
        "id": "hgTI7f9fMQC7",
        "colab_type": "code",
        "colab": {
          "base_uri": "https://localhost:8080/",
          "height": 34
        },
        "outputId": "5c5510c8-0b17-48cb-e99b-0df66b6a5a39"
      },
      "source": [
        "#print dimensions\n",
        "a.ndim"
      ],
      "execution_count": 7,
      "outputs": [
        {
          "output_type": "execute_result",
          "data": {
            "text/plain": [
              "1"
            ]
          },
          "metadata": {
            "tags": []
          },
          "execution_count": 7
        }
      ]
    },
    {
      "cell_type": "code",
      "metadata": {
        "id": "UJCLgdV4MQDF",
        "colab_type": "code",
        "colab": {
          "base_uri": "https://localhost:8080/",
          "height": 34
        },
        "outputId": "714f9a83-93db-4af5-8368-9cebcf992381"
      },
      "source": [
        "#print shape\n",
        "a.shape"
      ],
      "execution_count": 8,
      "outputs": [
        {
          "output_type": "execute_result",
          "data": {
            "text/plain": [
              "(5,)"
            ]
          },
          "metadata": {
            "tags": []
          },
          "execution_count": 8
        }
      ]
    },
    {
      "cell_type": "code",
      "metadata": {
        "id": "lIJAv6fFMQDM",
        "colab_type": "code",
        "colab": {
          "base_uri": "https://localhost:8080/",
          "height": 34
        },
        "outputId": "4907a79b-e77f-4226-d125-48c647d06ead"
      },
      "source": [
        "len(a)"
      ],
      "execution_count": 9,
      "outputs": [
        {
          "output_type": "execute_result",
          "data": {
            "text/plain": [
              "5"
            ]
          },
          "metadata": {
            "tags": []
          },
          "execution_count": 9
        }
      ]
    },
    {
      "cell_type": "code",
      "metadata": {
        "id": "5hlDiIoxMQDW",
        "colab_type": "code",
        "colab": {
          "base_uri": "https://localhost:8080/",
          "height": 51
        },
        "outputId": "cc2cb1ba-e93f-4606-be58-204ebbb390b7"
      },
      "source": [
        "#create 2-D array #matrix\n",
        "\n",
        "b = np.array([[1,2,3],[4,5,6]]) #list of lists\n",
        "\n",
        "b"
      ],
      "execution_count": 10,
      "outputs": [
        {
          "output_type": "execute_result",
          "data": {
            "text/plain": [
              "array([[1, 2, 3],\n",
              "       [4, 5, 6]])"
            ]
          },
          "metadata": {
            "tags": []
          },
          "execution_count": 10
        }
      ]
    },
    {
      "cell_type": "code",
      "metadata": {
        "id": "nL7nucnYMQDc",
        "colab_type": "code",
        "colab": {
          "base_uri": "https://localhost:8080/",
          "height": 34
        },
        "outputId": "4703cee7-2a48-4e90-f1ac-5c4ea1fd5b26"
      },
      "source": [
        "b.ndim"
      ],
      "execution_count": 11,
      "outputs": [
        {
          "output_type": "execute_result",
          "data": {
            "text/plain": [
              "2"
            ]
          },
          "metadata": {
            "tags": []
          },
          "execution_count": 11
        }
      ]
    },
    {
      "cell_type": "code",
      "metadata": {
        "id": "OR2j3epvMQDo",
        "colab_type": "code",
        "colab": {
          "base_uri": "https://localhost:8080/",
          "height": 34
        },
        "outputId": "1ef9362d-a096-4174-b1f7-8a49fb71b0cb"
      },
      "source": [
        "b.shape"
      ],
      "execution_count": 12,
      "outputs": [
        {
          "output_type": "execute_result",
          "data": {
            "text/plain": [
              "(2, 3)"
            ]
          },
          "metadata": {
            "tags": []
          },
          "execution_count": 12
        }
      ]
    },
    {
      "cell_type": "code",
      "metadata": {
        "id": "7QzAupniMQDu",
        "colab_type": "code",
        "colab": {
          "base_uri": "https://localhost:8080/",
          "height": 34
        },
        "outputId": "1e9871e6-2a72-446b-be25-e9b0e901e9d2"
      },
      "source": [
        "len(b) #size of first dimension or number of rows"
      ],
      "execution_count": 13,
      "outputs": [
        {
          "output_type": "execute_result",
          "data": {
            "text/plain": [
              "2"
            ]
          },
          "metadata": {
            "tags": []
          },
          "execution_count": 13
        }
      ]
    },
    {
      "cell_type": "code",
      "metadata": {
        "id": "L8dItyNzMQD6",
        "colab_type": "code",
        "colab": {
          "base_uri": "https://localhost:8080/",
          "height": 102
        },
        "outputId": "b1230ea9-9d4d-4ab2-f628-eee9d0c640a9"
      },
      "source": [
        "#create 3 - D array #tensors\n",
        "\n",
        "c = np.array([[[0,1],[2,3]],[[4,5],[6,7]]])\n",
        "\n",
        "c"
      ],
      "execution_count": 14,
      "outputs": [
        {
          "output_type": "execute_result",
          "data": {
            "text/plain": [
              "array([[[0, 1],\n",
              "        [2, 3]],\n",
              "\n",
              "       [[4, 5],\n",
              "        [6, 7]]])"
            ]
          },
          "metadata": {
            "tags": []
          },
          "execution_count": 14
        }
      ]
    },
    {
      "cell_type": "code",
      "metadata": {
        "id": "x4C5SxyZMQEB",
        "colab_type": "code",
        "colab": {
          "base_uri": "https://localhost:8080/",
          "height": 34
        },
        "outputId": "9ae92b5c-a5ea-4545-ea6f-8863a20a301d"
      },
      "source": [
        "c.ndim"
      ],
      "execution_count": 15,
      "outputs": [
        {
          "output_type": "execute_result",
          "data": {
            "text/plain": [
              "3"
            ]
          },
          "metadata": {
            "tags": []
          },
          "execution_count": 15
        }
      ]
    },
    {
      "cell_type": "code",
      "metadata": {
        "id": "Kd06IBm_MQEL",
        "colab_type": "code",
        "colab": {
          "base_uri": "https://localhost:8080/",
          "height": 34
        },
        "outputId": "24b4c92e-d522-4935-cee1-999ea7cd0e69"
      },
      "source": [
        "c.shape"
      ],
      "execution_count": 16,
      "outputs": [
        {
          "output_type": "execute_result",
          "data": {
            "text/plain": [
              "(2, 2, 2)"
            ]
          },
          "metadata": {
            "tags": []
          },
          "execution_count": 16
        }
      ]
    },
    {
      "cell_type": "code",
      "metadata": {
        "id": "lXy82wlGMQER",
        "colab_type": "code",
        "colab": {
          "base_uri": "https://localhost:8080/",
          "height": 34
        },
        "outputId": "0efa1c90-c7c5-49f7-a973-0385ae959b48"
      },
      "source": [
        "len(c)"
      ],
      "execution_count": 17,
      "outputs": [
        {
          "output_type": "execute_result",
          "data": {
            "text/plain": [
              "2"
            ]
          },
          "metadata": {
            "tags": []
          },
          "execution_count": 17
        }
      ]
    },
    {
      "cell_type": "markdown",
      "metadata": {
        "id": "zD6kPxv0MQEc",
        "colab_type": "text"
      },
      "source": [
        "### 3.2. Functions for creating arrays"
      ]
    },
    {
      "cell_type": "code",
      "metadata": {
        "id": "rV9wNhRRMQEd",
        "colab_type": "code",
        "colab": {
          "base_uri": "https://localhost:8080/",
          "height": 34
        },
        "outputId": "dfe00e7f-395b-4986-c1f7-ab222fa54b1b"
      },
      "source": [
        "#using arange function\n",
        "\n",
        "a = np.arange(10)\n",
        "\n",
        "a"
      ],
      "execution_count": 18,
      "outputs": [
        {
          "output_type": "execute_result",
          "data": {
            "text/plain": [
              "array([0, 1, 2, 3, 4, 5, 6, 7, 8, 9])"
            ]
          },
          "metadata": {
            "tags": []
          },
          "execution_count": 18
        }
      ]
    },
    {
      "cell_type": "code",
      "metadata": {
        "id": "3EF-earCMQEm",
        "colab_type": "code",
        "colab": {
          "base_uri": "https://localhost:8080/",
          "height": 34
        },
        "outputId": "00c794e7-c688-44fb-924d-37cb4318004b"
      },
      "source": [
        "b = np.arange(1,10,2) #start, end, step\n",
        "\n",
        "b"
      ],
      "execution_count": 19,
      "outputs": [
        {
          "output_type": "execute_result",
          "data": {
            "text/plain": [
              "array([1, 3, 5, 7, 9])"
            ]
          },
          "metadata": {
            "tags": []
          },
          "execution_count": 19
        }
      ]
    },
    {
      "cell_type": "code",
      "metadata": {
        "id": "sl4SR2VFMQEu",
        "colab_type": "code",
        "colab": {
          "base_uri": "https://localhost:8080/",
          "height": 34
        },
        "outputId": "605100a9-e0b7-4446-e5a0-72896b9492c9"
      },
      "source": [
        "#using linspace #linearspace\n",
        "\n",
        "c = np.linspace(5, 10, 5) #start, end, number of points\n",
        "\n",
        "c"
      ],
      "execution_count": 20,
      "outputs": [
        {
          "output_type": "execute_result",
          "data": {
            "text/plain": [
              "array([ 5.  ,  6.25,  7.5 ,  8.75, 10.  ])"
            ]
          },
          "metadata": {
            "tags": []
          },
          "execution_count": 20
        }
      ]
    },
    {
      "cell_type": "code",
      "metadata": {
        "id": "OqqyN8kpMQE5",
        "colab_type": "code",
        "colab": {
          "base_uri": "https://localhost:8080/",
          "height": 68
        },
        "outputId": "377eeea6-97f5-45ae-f442-10b337e6bebb"
      },
      "source": [
        "#common arrays\n",
        "\n",
        "d = np.ones((3,3))\n",
        "\n",
        "d"
      ],
      "execution_count": 21,
      "outputs": [
        {
          "output_type": "execute_result",
          "data": {
            "text/plain": [
              "array([[1., 1., 1.],\n",
              "       [1., 1., 1.],\n",
              "       [1., 1., 1.]])"
            ]
          },
          "metadata": {
            "tags": []
          },
          "execution_count": 21
        }
      ]
    },
    {
      "cell_type": "code",
      "metadata": {
        "id": "vNMCm3wKMQE-",
        "colab_type": "code",
        "colab": {
          "base_uri": "https://localhost:8080/",
          "height": 68
        },
        "outputId": "7a795e96-493d-4824-92e4-861232988548"
      },
      "source": [
        "x = np.zeros((3,3))\n",
        "\n",
        "x"
      ],
      "execution_count": 22,
      "outputs": [
        {
          "output_type": "execute_result",
          "data": {
            "text/plain": [
              "array([[0., 0., 0.],\n",
              "       [0., 0., 0.],\n",
              "       [0., 0., 0.]])"
            ]
          },
          "metadata": {
            "tags": []
          },
          "execution_count": 22
        }
      ]
    },
    {
      "cell_type": "code",
      "metadata": {
        "id": "fJbFttR2MQFC",
        "colab_type": "code",
        "colab": {
          "base_uri": "https://localhost:8080/",
          "height": 68
        },
        "outputId": "ebf59be1-edc3-4a7d-b002-ef9231c786c3"
      },
      "source": [
        "y = np.eye(3) #creates a matrix with 1 as the diagonals and 0 as non-diagonal elements\n",
        "\n",
        "y"
      ],
      "execution_count": 23,
      "outputs": [
        {
          "output_type": "execute_result",
          "data": {
            "text/plain": [
              "array([[1., 0., 0.],\n",
              "       [0., 1., 0.],\n",
              "       [0., 0., 1.]])"
            ]
          },
          "metadata": {
            "tags": []
          },
          "execution_count": 23
        }
      ]
    },
    {
      "cell_type": "code",
      "metadata": {
        "id": "LIeTosW4MQFG",
        "colab_type": "code",
        "colab": {
          "base_uri": "https://localhost:8080/",
          "height": 68
        },
        "outputId": "d4cd7e51-3f3a-42b7-bece-125df8691fcb"
      },
      "source": [
        "z = np.eye(3,2)\n",
        "\n",
        "z"
      ],
      "execution_count": 24,
      "outputs": [
        {
          "output_type": "execute_result",
          "data": {
            "text/plain": [
              "array([[1., 0.],\n",
              "       [0., 1.],\n",
              "       [0., 0.]])"
            ]
          },
          "metadata": {
            "tags": []
          },
          "execution_count": 24
        }
      ]
    },
    {
      "cell_type": "code",
      "metadata": {
        "id": "qZeiq6HrMQFM",
        "colab_type": "code",
        "colab": {
          "base_uri": "https://localhost:8080/",
          "height": 85
        },
        "outputId": "d2c868e0-51fb-43ac-f980-af50f6f01e6d"
      },
      "source": [
        "a = np.diag([1,2,3,4]) #construct a diagonal array\n",
        "\n",
        "print(a)"
      ],
      "execution_count": 25,
      "outputs": [
        {
          "output_type": "stream",
          "text": [
            "[[1 0 0 0]\n",
            " [0 2 0 0]\n",
            " [0 0 3 0]\n",
            " [0 0 0 4]]\n"
          ],
          "name": "stdout"
        }
      ]
    },
    {
      "cell_type": "code",
      "metadata": {
        "id": "1IHf6DVJMQFR",
        "colab_type": "code",
        "colab": {
          "base_uri": "https://localhost:8080/",
          "height": 34
        },
        "outputId": "fe1163a6-34f8-4dbc-ef2d-8c8ea96f015c"
      },
      "source": [
        "np.diag(a) #extracts the diagonal elements of matrix a"
      ],
      "execution_count": 26,
      "outputs": [
        {
          "output_type": "execute_result",
          "data": {
            "text/plain": [
              "array([1, 2, 3, 4])"
            ]
          },
          "metadata": {
            "tags": []
          },
          "execution_count": 26
        }
      ]
    },
    {
      "cell_type": "code",
      "metadata": {
        "id": "eVIgwfTrMQFV",
        "colab_type": "code",
        "colab": {
          "base_uri": "https://localhost:8080/",
          "height": 34
        },
        "outputId": "5143ab24-4a42-482c-c320-59e0a044d7ff"
      },
      "source": [
        "#creates a array using random\n",
        "a = np.random.rand(4)\n",
        "\n",
        "print(a)"
      ],
      "execution_count": 27,
      "outputs": [
        {
          "output_type": "stream",
          "text": [
            "[0.89433875 0.17617217 0.4652305  0.11114223]\n"
          ],
          "name": "stdout"
        }
      ]
    },
    {
      "cell_type": "markdown",
      "metadata": {
        "id": "UumH9VHbMQFa",
        "colab_type": "text"
      },
      "source": [
        "## 4. Datatypes"
      ]
    },
    {
      "cell_type": "code",
      "metadata": {
        "id": "B36Sc2J3MQFb",
        "colab_type": "code",
        "colab": {
          "base_uri": "https://localhost:8080/",
          "height": 34
        },
        "outputId": "c2df1cce-bba9-4521-f2c7-36e2f144cf26"
      },
      "source": [
        "#we can explicitly specify the required data type\n",
        "a = np.arange(10, dtype='float')\n",
        "\n",
        "print(a)"
      ],
      "execution_count": 28,
      "outputs": [
        {
          "output_type": "stream",
          "text": [
            "[0. 1. 2. 3. 4. 5. 6. 7. 8. 9.]\n"
          ],
          "name": "stdout"
        }
      ]
    },
    {
      "cell_type": "code",
      "metadata": {
        "id": "ynVL_r-IMQFe",
        "colab_type": "code",
        "colab": {
          "base_uri": "https://localhost:8080/",
          "height": 34
        },
        "outputId": "eeae8c07-7515-48c7-c380-17e79fea0631"
      },
      "source": [
        "b = np.array([1+2j, 5+1j])\n",
        "\n",
        "print(b.dtype)"
      ],
      "execution_count": 29,
      "outputs": [
        {
          "output_type": "stream",
          "text": [
            "complex128\n"
          ],
          "name": "stdout"
        }
      ]
    },
    {
      "cell_type": "code",
      "metadata": {
        "id": "Azwd-_eHMQFi",
        "colab_type": "code",
        "colab": {
          "base_uri": "https://localhost:8080/",
          "height": 34
        },
        "outputId": "aee2b5c6-a440-4dff-bcba-c1bd04f4919d"
      },
      "source": [
        "c = np.array([True, False, True])\n",
        "\n",
        "print(c.dtype)"
      ],
      "execution_count": 30,
      "outputs": [
        {
          "output_type": "stream",
          "text": [
            "bool\n"
          ],
          "name": "stdout"
        }
      ]
    },
    {
      "cell_type": "markdown",
      "metadata": {
        "id": "4MaQCzRMMQFn",
        "colab_type": "text"
      },
      "source": [
        "## 5. Indexing and slicing"
      ]
    },
    {
      "cell_type": "markdown",
      "metadata": {
        "id": "kSwVHyLpMQFn",
        "colab_type": "text"
      },
      "source": [
        "### 5.1. Indexing"
      ]
    },
    {
      "cell_type": "code",
      "metadata": {
        "id": "6Im2PD2FMQFo",
        "colab_type": "code",
        "colab": {
          "base_uri": "https://localhost:8080/",
          "height": 51
        },
        "outputId": "a61b36ed-be8f-4e85-a259-e09fdf99fbf8"
      },
      "source": [
        "a = np.arange(10)\n",
        "\n",
        "#print(a)\n",
        "print(a[5])\n",
        "print(a[-1])"
      ],
      "execution_count": 31,
      "outputs": [
        {
          "output_type": "stream",
          "text": [
            "5\n",
            "9\n"
          ],
          "name": "stdout"
        }
      ]
    },
    {
      "cell_type": "code",
      "metadata": {
        "id": "yZrndFyzMQFs",
        "colab_type": "code",
        "colab": {
          "base_uri": "https://localhost:8080/",
          "height": 34
        },
        "outputId": "6f7148a2-c1c3-47ea-9753-9f29f7799053"
      },
      "source": [
        "b = np.diag([1,2,3])\n",
        "\n",
        "#print(b)\n",
        "print(b[2,2])"
      ],
      "execution_count": 32,
      "outputs": [
        {
          "output_type": "stream",
          "text": [
            "3\n"
          ],
          "name": "stdout"
        }
      ]
    },
    {
      "cell_type": "code",
      "metadata": {
        "id": "8y3PTLOHMQFv",
        "colab_type": "code",
        "colab": {
          "base_uri": "https://localhost:8080/",
          "height": 68
        },
        "outputId": "d04c086c-7665-4b47-ae5f-c4b2d272e9da"
      },
      "source": [
        "b[2,1] = 10 #asigning value to a index\n",
        "\n",
        "print(b)"
      ],
      "execution_count": 33,
      "outputs": [
        {
          "output_type": "stream",
          "text": [
            "[[ 1  0  0]\n",
            " [ 0  2  0]\n",
            " [ 0 10  3]]\n"
          ],
          "name": "stdout"
        }
      ]
    },
    {
      "cell_type": "markdown",
      "metadata": {
        "id": "SNvo6k_tMQFz",
        "colab_type": "text"
      },
      "source": [
        "### 5.2. Slicing"
      ]
    },
    {
      "cell_type": "code",
      "metadata": {
        "id": "FkQ8wyhjMQF0",
        "colab_type": "code",
        "colab": {
          "base_uri": "https://localhost:8080/",
          "height": 34
        },
        "outputId": "0ee65d81-2e98-4c93-de1b-cd8d81bbf8c6"
      },
      "source": [
        "a = np.arange(10)\n",
        "\n",
        "print(a[1:10:2]) #[start_value: end_value(exclusive): step]"
      ],
      "execution_count": 34,
      "outputs": [
        {
          "output_type": "stream",
          "text": [
            "[1 3 5 7 9]\n"
          ],
          "name": "stdout"
        }
      ]
    },
    {
      "cell_type": "code",
      "metadata": {
        "id": "3n9XcDr_MQF5",
        "colab_type": "code",
        "colab": {
          "base_uri": "https://localhost:8080/",
          "height": 34
        },
        "outputId": "a6d56df7-0d4e-4a8a-a7c8-ff429d10b264"
      },
      "source": [
        "b = np.arange(10)\n",
        "\n",
        "b[5:] = 10 #assign 10 from index 5 to end\n",
        "\n",
        "print(b)"
      ],
      "execution_count": 35,
      "outputs": [
        {
          "output_type": "stream",
          "text": [
            "[ 0  1  2  3  4 10 10 10 10 10]\n"
          ],
          "name": "stdout"
        }
      ]
    },
    {
      "cell_type": "code",
      "metadata": {
        "id": "2J1hNuIoMQF8",
        "colab_type": "code",
        "colab": {
          "base_uri": "https://localhost:8080/",
          "height": 34
        },
        "outputId": "9d9de5d1-4abc-4bb4-dd9d-d9a801e35a70"
      },
      "source": [
        "c = np.arange(5)\n",
        "\n",
        "b[5:] = c[::-1] #assign in reverse order\n",
        "\n",
        "print(b)"
      ],
      "execution_count": 41,
      "outputs": [
        {
          "output_type": "stream",
          "text": [
            "[0 1 2 3 4 4 3 2 1 0]\n"
          ],
          "name": "stdout"
        }
      ]
    },
    {
      "cell_type": "markdown",
      "metadata": {
        "id": "Ng8E4LZZMQGE",
        "colab_type": "text"
      },
      "source": [
        "## 6. Copies and views "
      ]
    },
    {
      "cell_type": "markdown",
      "metadata": {
        "id": "rPy563atMQGE",
        "colab_type": "text"
      },
      "source": [
        "Slicing operation creates a view on the original array which is just a way of accessing the data. Thus, the original array is not copied in the memory. You can use <strong>np.may_share_memory()</strong> to check whether two arrays share the same memory block."
      ]
    },
    {
      "cell_type": "code",
      "metadata": {
        "id": "YRPWSI74MQGF",
        "colab_type": "code",
        "colab": {
          "base_uri": "https://localhost:8080/",
          "height": 34
        },
        "outputId": "bb04e536-434d-4682-833b-973439cadb28"
      },
      "source": [
        "a = np.arange(10)\n",
        "\n",
        "b = a[::2]\n",
        "\n",
        "np.shares_memory(a,b)"
      ],
      "execution_count": 42,
      "outputs": [
        {
          "output_type": "execute_result",
          "data": {
            "text/plain": [
              "True"
            ]
          },
          "metadata": {
            "tags": []
          },
          "execution_count": 42
        }
      ]
    },
    {
      "cell_type": "code",
      "metadata": {
        "id": "UhOXC14RMQGK",
        "colab_type": "code",
        "colab": {
          "base_uri": "https://localhost:8080/",
          "height": 51
        },
        "outputId": "fa33fd2c-054d-4eaf-a97b-bb0def5a0cd1"
      },
      "source": [
        "b[0] = 10\n",
        "\n",
        "print(b)\n",
        "print(a) #a is also updated, since is shares the same location in memory"
      ],
      "execution_count": 43,
      "outputs": [
        {
          "output_type": "stream",
          "text": [
            "[10  2  4  6  8]\n",
            "[10  1  2  3  4  5  6  7  8  9]\n"
          ],
          "name": "stdout"
        }
      ]
    },
    {
      "cell_type": "code",
      "metadata": {
        "id": "1ySdfikxMQGN",
        "colab_type": "code",
        "colab": {
          "base_uri": "https://localhost:8080/",
          "height": 34
        },
        "outputId": "1dbf0c93-b60e-4325-85bf-1d801c157d28"
      },
      "source": [
        "c = a[::2].copy() #force the copy\n",
        "\n",
        "np.shares_memory(a,c)"
      ],
      "execution_count": 44,
      "outputs": [
        {
          "output_type": "execute_result",
          "data": {
            "text/plain": [
              "False"
            ]
          },
          "metadata": {
            "tags": []
          },
          "execution_count": 44
        }
      ]
    },
    {
      "cell_type": "code",
      "metadata": {
        "id": "A7xDErKaMQGT",
        "colab_type": "code",
        "colab": {
          "base_uri": "https://localhost:8080/",
          "height": 51
        },
        "outputId": "58f786b6-d8f8-463e-9a46-81ebe18a452c"
      },
      "source": [
        "c[0] = 5\n",
        "\n",
        "print(c)\n",
        "print(a)"
      ],
      "execution_count": 45,
      "outputs": [
        {
          "output_type": "stream",
          "text": [
            "[5 2 4 6 8]\n",
            "[10  1  2  3  4  5  6  7  8  9]\n"
          ],
          "name": "stdout"
        }
      ]
    },
    {
      "cell_type": "markdown",
      "metadata": {
        "id": "vgEsXZwzMQGY",
        "colab_type": "text"
      },
      "source": [
        "## 7. Fancy Indexing"
      ]
    },
    {
      "cell_type": "markdown",
      "metadata": {
        "id": "pSbD8BE5MQGZ",
        "colab_type": "text"
      },
      "source": [
        "### 7.1 Using Boolean mask"
      ]
    },
    {
      "cell_type": "code",
      "metadata": {
        "id": "AqHWIm6JMQGa",
        "colab_type": "code",
        "colab": {
          "base_uri": "https://localhost:8080/",
          "height": 34
        },
        "outputId": "b1f7e1c6-a9df-488a-b11e-942231a13cb0"
      },
      "source": [
        "a = np.random.randint(0,20,15)\n",
        "\n",
        "print(a)"
      ],
      "execution_count": 46,
      "outputs": [
        {
          "output_type": "stream",
          "text": [
            "[15  0 10 13 17 18  4  1  4 15  2  4  2 13 14]\n"
          ],
          "name": "stdout"
        }
      ]
    },
    {
      "cell_type": "code",
      "metadata": {
        "id": "BHQcmzmkMQGg",
        "colab_type": "code",
        "colab": {
          "base_uri": "https://localhost:8080/",
          "height": 34
        },
        "outputId": "13d25dba-d960-48c9-fda9-81dd3a1a94bb"
      },
      "source": [
        "mask = (a % 2 == 0)\n",
        "a[mask]"
      ],
      "execution_count": 51,
      "outputs": [
        {
          "output_type": "execute_result",
          "data": {
            "text/plain": [
              "array([ 0, 10, 18,  4,  4,  2,  4,  2, 14])"
            ]
          },
          "metadata": {
            "tags": []
          },
          "execution_count": 51
        }
      ]
    },
    {
      "cell_type": "code",
      "metadata": {
        "id": "2-O5A4Q6MQGk",
        "colab_type": "code",
        "colab": {
          "base_uri": "https://localhost:8080/",
          "height": 34
        },
        "outputId": "05f7d35f-3376-4dfa-b51f-4deeff01a039"
      },
      "source": [
        "even_numbers = a[mask]\n",
        "\n",
        "print(even_numbers)"
      ],
      "execution_count": 49,
      "outputs": [
        {
          "output_type": "stream",
          "text": [
            "[ 0 10 18  4  4  2  4  2 14]\n"
          ],
          "name": "stdout"
        }
      ]
    },
    {
      "cell_type": "code",
      "metadata": {
        "id": "bh4pf5iKMQGt",
        "colab_type": "code",
        "colab": {
          "base_uri": "https://localhost:8080/",
          "height": 34
        },
        "outputId": "f05ffe1d-b50e-4927-8aa6-21104cc535da"
      },
      "source": [
        "a[mask]=-1 #it can be very useful to assign a new value to sub array\n",
        "\n",
        "print(a)"
      ],
      "execution_count": 52,
      "outputs": [
        {
          "output_type": "stream",
          "text": [
            "[15 -1 -1 13 17 -1 -1  1 -1 15 -1 -1 -1 13 -1]\n"
          ],
          "name": "stdout"
        }
      ]
    },
    {
      "cell_type": "markdown",
      "metadata": {
        "id": "Z-59leRqMQGw",
        "colab_type": "text"
      },
      "source": [
        "### 7.2. Using Integer Array"
      ]
    },
    {
      "cell_type": "code",
      "metadata": {
        "id": "sO1-G6NQMQGx",
        "colab_type": "code",
        "colab": {
          "base_uri": "https://localhost:8080/",
          "height": 34
        },
        "outputId": "facf61df-5bec-49fb-d57e-e9e0d74fefd0"
      },
      "source": [
        "a = np.arange(0,100,10)\n",
        "\n",
        "print(a)"
      ],
      "execution_count": 53,
      "outputs": [
        {
          "output_type": "stream",
          "text": [
            "[ 0 10 20 30 40 50 60 70 80 90]\n"
          ],
          "name": "stdout"
        }
      ]
    },
    {
      "cell_type": "code",
      "metadata": {
        "id": "IDW3CZeRMQG2",
        "colab_type": "code",
        "colab": {
          "base_uri": "https://localhost:8080/",
          "height": 34
        },
        "outputId": "396cd23f-70da-45b5-b1fd-72e5dfa4a529"
      },
      "source": [
        "b = a[[2,3,5,2,4]]\n",
        "\n",
        "print(b)"
      ],
      "execution_count": 54,
      "outputs": [
        {
          "output_type": "stream",
          "text": [
            "[20 30 50 20 40]\n"
          ],
          "name": "stdout"
        }
      ]
    },
    {
      "cell_type": "code",
      "metadata": {
        "id": "erBjYXkMMQG6",
        "colab_type": "code",
        "colab": {
          "base_uri": "https://localhost:8080/",
          "height": 51
        },
        "outputId": "29cecb23-4b86-4b7a-f7de-dff40efecd34"
      },
      "source": [
        "a[[9,7]] = -200\n",
        "\n",
        "print(a)\n",
        "print(b)"
      ],
      "execution_count": 55,
      "outputs": [
        {
          "output_type": "stream",
          "text": [
            "[   0   10   20   30   40   50   60 -200   80 -200]\n",
            "[20 30 50 20 40]\n"
          ],
          "name": "stdout"
        }
      ]
    },
    {
      "cell_type": "markdown",
      "metadata": {
        "id": "VHKk45_yMQHA",
        "colab_type": "text"
      },
      "source": [
        "## 8. Numerical Operations on numpy"
      ]
    },
    {
      "cell_type": "markdown",
      "metadata": {
        "id": "ogF5lvinMQHB",
        "colab_type": "text"
      },
      "source": [
        "### 8.1. Element wise operations"
      ]
    },
    {
      "cell_type": "code",
      "metadata": {
        "id": "2kgs1vD0MQHC",
        "colab_type": "code",
        "colab": {
          "base_uri": "https://localhost:8080/",
          "height": 34
        },
        "outputId": "4beeadcc-0c4a-458a-8b86-d825e66884e2"
      },
      "source": [
        "a = np.arange(10)\n",
        "\n",
        "print(a+1)"
      ],
      "execution_count": 56,
      "outputs": [
        {
          "output_type": "stream",
          "text": [
            "[ 1  2  3  4  5  6  7  8  9 10]\n"
          ],
          "name": "stdout"
        }
      ]
    },
    {
      "cell_type": "code",
      "metadata": {
        "id": "xj-LT9GaMQHG",
        "colab_type": "code",
        "colab": {
          "base_uri": "https://localhost:8080/",
          "height": 34
        },
        "outputId": "7fb57440-1a96-475c-a0be-ff192d5a2e79"
      },
      "source": [
        "print(a ** 2)"
      ],
      "execution_count": 57,
      "outputs": [
        {
          "output_type": "stream",
          "text": [
            "[ 0  1  4  9 16 25 36 49 64 81]\n"
          ],
          "name": "stdout"
        }
      ]
    },
    {
      "cell_type": "code",
      "metadata": {
        "id": "RXpl5OjbMQHL",
        "colab_type": "code",
        "colab": {
          "base_uri": "https://localhost:8080/",
          "height": 51
        },
        "outputId": "6428c078-63a9-4bf3-d9fc-f7f9e53bc7fa"
      },
      "source": [
        "b = np.ones(10) + 1\n",
        "print(\"b = \", b)\n",
        "\n",
        "print(\"a - b = \",a-b)"
      ],
      "execution_count": 58,
      "outputs": [
        {
          "output_type": "stream",
          "text": [
            "b =  [2. 2. 2. 2. 2. 2. 2. 2. 2. 2.]\n",
            "a - b =  [-2. -1.  0.  1.  2.  3.  4.  5.  6.  7.]\n"
          ],
          "name": "stdout"
        }
      ]
    },
    {
      "cell_type": "code",
      "metadata": {
        "id": "BxKHCCsbMQHT",
        "colab_type": "code",
        "colab": {
          "base_uri": "https://localhost:8080/",
          "height": 34
        },
        "outputId": "f4785ff5-4f18-495e-8b7e-3378d68d4743"
      },
      "source": [
        "print(a*b)"
      ],
      "execution_count": 59,
      "outputs": [
        {
          "output_type": "stream",
          "text": [
            "[ 0.  2.  4.  6.  8. 10. 12. 14. 16. 18.]\n"
          ],
          "name": "stdout"
        }
      ]
    },
    {
      "cell_type": "code",
      "metadata": {
        "id": "UJ_JU_vnMQHa",
        "colab_type": "code",
        "colab": {
          "base_uri": "https://localhost:8080/",
          "height": 255
        },
        "outputId": "d7ef81c8-0c47-4b3b-ffbb-1f800c5087da"
      },
      "source": [
        "#Matrix Multiplication\n",
        "\n",
        "c = np.diag([1,2,3,4])\n",
        "\n",
        "print(c)\n",
        "print(\"*\"*100)\n",
        "print(c*c)\n",
        "print(\"*\"*100)\n",
        "print(c.dot(c))"
      ],
      "execution_count": 62,
      "outputs": [
        {
          "output_type": "stream",
          "text": [
            "[[1 0 0 0]\n",
            " [0 2 0 0]\n",
            " [0 0 3 0]\n",
            " [0 0 0 4]]\n",
            "****************************************************************************************************\n",
            "[[ 1  0  0  0]\n",
            " [ 0  4  0  0]\n",
            " [ 0  0  9  0]\n",
            " [ 0  0  0 16]]\n",
            "****************************************************************************************************\n",
            "[[ 1  0  0  0]\n",
            " [ 0  4  0  0]\n",
            " [ 0  0  9  0]\n",
            " [ 0  0  0 16]]\n"
          ],
          "name": "stdout"
        }
      ]
    },
    {
      "cell_type": "code",
      "metadata": {
        "id": "yO9TxD__MQHf",
        "colab_type": "code",
        "colab": {}
      },
      "source": [
        "# element comparisions\n",
        "\n",
        "a = np.array([1,2,5,4])\n",
        "b = np.array([6,2,9,4])\n",
        "\n",
        "print(a==b)"
      ],
      "execution_count": null,
      "outputs": []
    },
    {
      "cell_type": "code",
      "metadata": {
        "id": "-ufE6C-wMQHn",
        "colab_type": "code",
        "colab": {}
      },
      "source": [
        "print(a>b)"
      ],
      "execution_count": null,
      "outputs": []
    },
    {
      "cell_type": "code",
      "metadata": {
        "id": "P-1wbl79MQHt",
        "colab_type": "code",
        "colab": {}
      },
      "source": [
        "print(a<b)"
      ],
      "execution_count": null,
      "outputs": []
    },
    {
      "cell_type": "code",
      "metadata": {
        "id": "oAHHgJ2uMQHw",
        "colab_type": "code",
        "colab": {}
      },
      "source": [
        "print(a<=b)"
      ],
      "execution_count": null,
      "outputs": []
    },
    {
      "cell_type": "code",
      "metadata": {
        "id": "hKJSDuvkMQH1",
        "colab_type": "code",
        "colab": {}
      },
      "source": [
        "#array wise comparision\n",
        "\n",
        "print(np.array_equal(a,b))"
      ],
      "execution_count": null,
      "outputs": []
    },
    {
      "cell_type": "code",
      "metadata": {
        "id": "Pj3aDS1bMQH6",
        "colab_type": "code",
        "colab": {}
      },
      "source": [
        "c = np.array([1,2,5,4])\n",
        "\n",
        "print(np.array_equal(a,c))"
      ],
      "execution_count": null,
      "outputs": []
    },
    {
      "cell_type": "markdown",
      "metadata": {
        "id": "9KW00CZ8MQH-",
        "colab_type": "text"
      },
      "source": [
        "#### Logical Operations"
      ]
    },
    {
      "cell_type": "code",
      "metadata": {
        "id": "LJeRYUw4MQH-",
        "colab_type": "code",
        "colab": {}
      },
      "source": [
        "a = np.array([1,0,0,1],dtype='bool')\n",
        "b = np.array([0,1,0,1],dtype='bool')\n",
        "\n",
        "print(np.logical_or(a,b))"
      ],
      "execution_count": null,
      "outputs": []
    },
    {
      "cell_type": "code",
      "metadata": {
        "id": "FYrLbz5SMQIE",
        "colab_type": "code",
        "colab": {}
      },
      "source": [
        "print(np.logical_and(a,b))"
      ],
      "execution_count": null,
      "outputs": []
    },
    {
      "cell_type": "code",
      "metadata": {
        "id": "OF9kRL6uMQIG",
        "colab_type": "code",
        "colab": {}
      },
      "source": [
        "print(np.logical_not(a))"
      ],
      "execution_count": null,
      "outputs": []
    },
    {
      "cell_type": "markdown",
      "metadata": {
        "id": "RVeJ-3GsMQIJ",
        "colab_type": "text"
      },
      "source": [
        "#### Transcendental Functions:"
      ]
    },
    {
      "cell_type": "code",
      "metadata": {
        "id": "ksgy_6ICMQIK",
        "colab_type": "code",
        "colab": {}
      },
      "source": [
        "a = np.arange(5)+1\n",
        "\n",
        "print(np.sin(a))"
      ],
      "execution_count": null,
      "outputs": []
    },
    {
      "cell_type": "code",
      "metadata": {
        "id": "525J6N9kMQIN",
        "colab_type": "code",
        "colab": {}
      },
      "source": [
        "print(np.log(a))"
      ],
      "execution_count": null,
      "outputs": []
    },
    {
      "cell_type": "code",
      "metadata": {
        "id": "owBhDmMWMQIQ",
        "colab_type": "code",
        "colab": {}
      },
      "source": [
        "print(np.exp(a))"
      ],
      "execution_count": null,
      "outputs": []
    },
    {
      "cell_type": "markdown",
      "metadata": {
        "id": "TwjgZKdDMQIS",
        "colab_type": "text"
      },
      "source": [
        "#### Shape Mismatch:"
      ]
    },
    {
      "cell_type": "code",
      "metadata": {
        "id": "cjg01oH8MQIT",
        "colab_type": "code",
        "colab": {}
      },
      "source": [
        "a = np.array([1,2,3,4])\n",
        "\n",
        "b = np.array([5, 10])\n",
        "\n",
        "print(a+b)"
      ],
      "execution_count": null,
      "outputs": []
    },
    {
      "cell_type": "markdown",
      "metadata": {
        "id": "Ud7wQmesMQIV",
        "colab_type": "text"
      },
      "source": [
        "### 8.2. Basic Reductions"
      ]
    },
    {
      "cell_type": "code",
      "metadata": {
        "id": "QyGSwJcFMQIX",
        "colab_type": "code",
        "colab": {}
      },
      "source": [
        "x = np.array([1,2,3,4])\n",
        "\n",
        "print(np.sum(x))"
      ],
      "execution_count": null,
      "outputs": []
    },
    {
      "cell_type": "code",
      "metadata": {
        "id": "7MSn2Lc2MQIZ",
        "colab_type": "code",
        "colab": {}
      },
      "source": [
        "y = np.array([[1,2],[3,4]])\n",
        "\n",
        "print(y)\n",
        "print(\"*\"*100)\n",
        "print(y.T)"
      ],
      "execution_count": null,
      "outputs": []
    },
    {
      "cell_type": "code",
      "metadata": {
        "id": "uFZZ6cfuMQIg",
        "colab_type": "code",
        "colab": {}
      },
      "source": [
        "print(y.sum(axis=0)) #column wise sum"
      ],
      "execution_count": null,
      "outputs": []
    },
    {
      "cell_type": "code",
      "metadata": {
        "id": "uDGdNq_4MQIi",
        "colab_type": "code",
        "colab": {}
      },
      "source": [
        "print(y.sum(axis=1)) #row wise sum"
      ],
      "execution_count": null,
      "outputs": []
    },
    {
      "cell_type": "markdown",
      "metadata": {
        "id": "BlVJVQGXMQIn",
        "colab_type": "text"
      },
      "source": [
        "#### other reductions"
      ]
    },
    {
      "cell_type": "code",
      "metadata": {
        "id": "sbOM5QrUMQIn",
        "colab_type": "code",
        "colab": {}
      },
      "source": [
        "print(y.min())"
      ],
      "execution_count": null,
      "outputs": []
    },
    {
      "cell_type": "code",
      "metadata": {
        "id": "-BMzuA2rMQIr",
        "colab_type": "code",
        "colab": {}
      },
      "source": [
        "print(y.max())"
      ],
      "execution_count": null,
      "outputs": []
    },
    {
      "cell_type": "code",
      "metadata": {
        "id": "15cHcxDzMQIu",
        "colab_type": "code",
        "colab": {}
      },
      "source": [
        "print(y.argmin()) #index of minimum element"
      ],
      "execution_count": null,
      "outputs": []
    },
    {
      "cell_type": "code",
      "metadata": {
        "id": "WAz4P-sYMQIy",
        "colab_type": "code",
        "colab": {}
      },
      "source": [
        "print(y.argmax()) #index of maximum element"
      ],
      "execution_count": null,
      "outputs": []
    },
    {
      "cell_type": "markdown",
      "metadata": {
        "id": "ZlqfRk5AMQI3",
        "colab_type": "text"
      },
      "source": [
        "#### Logical reductions"
      ]
    },
    {
      "cell_type": "code",
      "metadata": {
        "id": "gRB1QjOnMQI3",
        "colab_type": "code",
        "colab": {}
      },
      "source": [
        "print(np.all([True, False, False])) #logical and"
      ],
      "execution_count": null,
      "outputs": []
    },
    {
      "cell_type": "code",
      "metadata": {
        "id": "pcgPbWoSMQI7",
        "colab_type": "code",
        "colab": {}
      },
      "source": [
        "print(np.any([True, False, False])) #logical or"
      ],
      "execution_count": null,
      "outputs": []
    },
    {
      "cell_type": "code",
      "metadata": {
        "id": "r3jVOAMVMQJA",
        "colab_type": "code",
        "colab": {}
      },
      "source": [
        "a = np.zeros((50,50))\n",
        "\n",
        "print(np.any(a!=0)) #checks whether any element in a is not equal to zero"
      ],
      "execution_count": null,
      "outputs": []
    },
    {
      "cell_type": "markdown",
      "metadata": {
        "id": "_TPpX4h0MQJD",
        "colab_type": "text"
      },
      "source": [
        "#### Statistics"
      ]
    },
    {
      "cell_type": "code",
      "metadata": {
        "id": "63IifjLjMQJE",
        "colab_type": "code",
        "colab": {}
      },
      "source": [
        "x = np.arange(1,10)\n",
        "\n",
        "print(np.mean(x))"
      ],
      "execution_count": null,
      "outputs": []
    },
    {
      "cell_type": "code",
      "metadata": {
        "id": "-wFPvr1sMQJG",
        "colab_type": "code",
        "colab": {}
      },
      "source": [
        "print(np.median(x))"
      ],
      "execution_count": null,
      "outputs": []
    },
    {
      "cell_type": "code",
      "metadata": {
        "id": "TJgRE3xzMQJL",
        "colab_type": "code",
        "colab": {}
      },
      "source": [
        "y = np.array([[1,2,3],[4,5,6]])\n",
        "\n",
        "print(np.mean(y,axis=0)) #column wise mean\n",
        "print(np.mean(y,axis=1)) #row wise mean"
      ],
      "execution_count": null,
      "outputs": []
    },
    {
      "cell_type": "code",
      "metadata": {
        "id": "W5IyHqtqMQJP",
        "colab_type": "code",
        "colab": {}
      },
      "source": [
        "print(np.std(x))"
      ],
      "execution_count": null,
      "outputs": []
    },
    {
      "cell_type": "markdown",
      "metadata": {
        "id": "wTdG-2WCMQJS",
        "colab_type": "text"
      },
      "source": [
        "#### Example:"
      ]
    },
    {
      "cell_type": "code",
      "metadata": {
        "id": "VKQa4HHVMQJT",
        "colab_type": "code",
        "colab": {}
      },
      "source": [
        "data = np.loadtxt(\"dataset/populations.txt\")"
      ],
      "execution_count": null,
      "outputs": []
    },
    {
      "cell_type": "code",
      "metadata": {
        "id": "uh7DyFZcMQJW",
        "colab_type": "code",
        "colab": {}
      },
      "source": [
        "print(data)"
      ],
      "execution_count": null,
      "outputs": []
    },
    {
      "cell_type": "code",
      "metadata": {
        "id": "qvLIUHhMMQJY",
        "colab_type": "code",
        "colab": {}
      },
      "source": [
        "data.shape"
      ],
      "execution_count": null,
      "outputs": []
    },
    {
      "cell_type": "code",
      "metadata": {
        "id": "jefQuQjHMQJb",
        "colab_type": "code",
        "colab": {}
      },
      "source": [
        "year, hare, lynx, carrot = data.T"
      ],
      "execution_count": null,
      "outputs": []
    },
    {
      "cell_type": "code",
      "metadata": {
        "id": "DTXtbqezMQJe",
        "colab_type": "code",
        "colab": {}
      },
      "source": [
        "print(year)"
      ],
      "execution_count": null,
      "outputs": []
    },
    {
      "cell_type": "code",
      "metadata": {
        "id": "ApRVBv7WMQJg",
        "colab_type": "code",
        "colab": {}
      },
      "source": [
        "populations = data[:,1:]"
      ],
      "execution_count": null,
      "outputs": []
    },
    {
      "cell_type": "code",
      "metadata": {
        "id": "EbdTwp5uMQJj",
        "colab_type": "code",
        "colab": {}
      },
      "source": [
        "print(populations)"
      ],
      "execution_count": null,
      "outputs": []
    },
    {
      "cell_type": "code",
      "metadata": {
        "id": "IB4OCQeFMQJs",
        "colab_type": "code",
        "colab": {}
      },
      "source": [
        "populations.std(axis=0)"
      ],
      "execution_count": null,
      "outputs": []
    },
    {
      "cell_type": "code",
      "metadata": {
        "id": "GeZvEvKeMQJv",
        "colab_type": "code",
        "colab": {}
      },
      "source": [
        "populations.mean(axis=0)"
      ],
      "execution_count": null,
      "outputs": []
    },
    {
      "cell_type": "code",
      "metadata": {
        "id": "69CBnXSsMQJz",
        "colab_type": "code",
        "colab": {}
      },
      "source": [
        "#which species has the highest population each year\n",
        "\n",
        "print(np.argmax(populations, axis=1))"
      ],
      "execution_count": null,
      "outputs": []
    },
    {
      "cell_type": "markdown",
      "metadata": {
        "id": "dbjXZaamMQJ0",
        "colab_type": "text"
      },
      "source": [
        "## 9. Broadcasting"
      ]
    },
    {
      "cell_type": "code",
      "metadata": {
        "id": "2cHKyH2fMQJ1",
        "colab_type": "code",
        "colab": {}
      },
      "source": [
        "from IPython.display import Image\n",
        "\n",
        "Image(\"photos/broadcasting.PNG\")"
      ],
      "execution_count": null,
      "outputs": []
    },
    {
      "cell_type": "code",
      "metadata": {
        "id": "E__1OaznMQJ3",
        "colab_type": "code",
        "colab": {}
      },
      "source": [
        "a = np.tile(np.arange(0, 40, 10),(3,1)) #replicate rows 3 times and columns 1 time # change columns\n",
        "print(a)\n",
        "print(\"*\"*100)\n",
        "\n",
        "a = a.T\n",
        "print(a)"
      ],
      "execution_count": null,
      "outputs": []
    },
    {
      "cell_type": "code",
      "metadata": {
        "id": "xAsw_IziMQJ9",
        "colab_type": "code",
        "colab": {}
      },
      "source": [
        "b = np.array([0,1,2])\n",
        "\n",
        "print(b)"
      ],
      "execution_count": null,
      "outputs": []
    },
    {
      "cell_type": "code",
      "metadata": {
        "id": "4sZn51eSMQJ_",
        "colab_type": "code",
        "colab": {}
      },
      "source": [
        "c = a + b\n",
        "\n",
        "print(c)"
      ],
      "execution_count": null,
      "outputs": []
    },
    {
      "cell_type": "code",
      "metadata": {
        "id": "rfLBcG42MQKE",
        "colab_type": "code",
        "colab": {}
      },
      "source": [
        "a = np.arange(0,40,10)\n",
        "print(a.shape)"
      ],
      "execution_count": null,
      "outputs": []
    },
    {
      "cell_type": "code",
      "metadata": {
        "id": "_dwUzoGXMQKI",
        "colab_type": "code",
        "colab": {}
      },
      "source": [
        "a = a[:, np.newaxis] #adds a new axis\n",
        "print(a.shape)"
      ],
      "execution_count": null,
      "outputs": []
    },
    {
      "cell_type": "code",
      "metadata": {
        "id": "yzsHRz9qMQKM",
        "colab_type": "code",
        "colab": {}
      },
      "source": [
        "print(a)"
      ],
      "execution_count": null,
      "outputs": []
    },
    {
      "cell_type": "code",
      "metadata": {
        "id": "vrX-IvjHMQKP",
        "colab_type": "code",
        "colab": {}
      },
      "source": [
        "print(a+b)"
      ],
      "execution_count": null,
      "outputs": []
    },
    {
      "cell_type": "markdown",
      "metadata": {
        "id": "2XTVHkDYMQKS",
        "colab_type": "text"
      },
      "source": [
        "## 10. Array Manipulation"
      ]
    },
    {
      "cell_type": "markdown",
      "metadata": {
        "id": "ryN7LmSKMQKS",
        "colab_type": "text"
      },
      "source": [
        "### 10.1. Flattening"
      ]
    },
    {
      "cell_type": "code",
      "metadata": {
        "id": "pruDrmfIMQKT",
        "colab_type": "code",
        "colab": {}
      },
      "source": [
        "a = np.array([[1,2,3],[4,5,6]])\n",
        "print(a)"
      ],
      "execution_count": null,
      "outputs": []
    },
    {
      "cell_type": "code",
      "metadata": {
        "id": "tQpSmIUpMQKW",
        "colab_type": "code",
        "colab": {}
      },
      "source": [
        "print(a.ravel())"
      ],
      "execution_count": null,
      "outputs": []
    },
    {
      "cell_type": "code",
      "metadata": {
        "id": "KhZ_hiLVMQKY",
        "colab_type": "code",
        "colab": {}
      },
      "source": [
        "print(a.T)"
      ],
      "execution_count": null,
      "outputs": []
    },
    {
      "cell_type": "code",
      "metadata": {
        "id": "f7HS0F6tMQKa",
        "colab_type": "code",
        "colab": {}
      },
      "source": [
        "print(a.T.ravel())"
      ],
      "execution_count": null,
      "outputs": []
    },
    {
      "cell_type": "markdown",
      "metadata": {
        "id": "vSuCn9vYMQKd",
        "colab_type": "text"
      },
      "source": [
        "### 10.2. Reshaping"
      ]
    },
    {
      "cell_type": "code",
      "metadata": {
        "id": "2EV1n7uiMQKd",
        "colab_type": "code",
        "colab": {}
      },
      "source": [
        "print(a.shape)"
      ],
      "execution_count": null,
      "outputs": []
    },
    {
      "cell_type": "code",
      "metadata": {
        "id": "kCfmv4ByMQKf",
        "colab_type": "code",
        "colab": {}
      },
      "source": [
        "b = a.ravel()\n",
        "print(b.shape)"
      ],
      "execution_count": null,
      "outputs": []
    },
    {
      "cell_type": "code",
      "metadata": {
        "id": "s2ANFnl-MQKi",
        "colab_type": "code",
        "colab": {}
      },
      "source": [
        "b = b.reshape(2,3)\n",
        "print(b.shape)"
      ],
      "execution_count": null,
      "outputs": []
    },
    {
      "cell_type": "markdown",
      "metadata": {
        "id": "eMsTjk6vMQKn",
        "colab_type": "text"
      },
      "source": [
        "### 10.3. Adding a new dimension"
      ]
    },
    {
      "cell_type": "code",
      "metadata": {
        "id": "KTd3BstjMQKo",
        "colab_type": "code",
        "colab": {}
      },
      "source": [
        "z = np.arange(1,10,2)\n",
        "print(z.shape)"
      ],
      "execution_count": null,
      "outputs": []
    },
    {
      "cell_type": "code",
      "metadata": {
        "id": "3VSc7lOIMQKq",
        "colab_type": "code",
        "colab": {}
      },
      "source": [
        "z = z[:,np.newaxis]\n",
        "print(z.shape)"
      ],
      "execution_count": null,
      "outputs": []
    },
    {
      "cell_type": "code",
      "metadata": {
        "id": "a-cpyTYAMQKt",
        "colab_type": "code",
        "colab": {}
      },
      "source": [
        "z = z[:,np.newaxis]\n",
        "print(z.shape)"
      ],
      "execution_count": null,
      "outputs": []
    },
    {
      "cell_type": "markdown",
      "metadata": {
        "id": "Ckn3qgZkMQKy",
        "colab_type": "text"
      },
      "source": [
        "### 10.4. Dimension Shuffling"
      ]
    },
    {
      "cell_type": "code",
      "metadata": {
        "id": "mgjzZbD3MQKy",
        "colab_type": "code",
        "colab": {}
      },
      "source": [
        "a = np.arange(4*3*2)\n",
        "print(a)"
      ],
      "execution_count": null,
      "outputs": []
    },
    {
      "cell_type": "code",
      "metadata": {
        "id": "twCzepI0MQK2",
        "colab_type": "code",
        "colab": {}
      },
      "source": [
        "a = a.reshape(4,3,2) # 4 matrices of 3 rows and 2 columns each\n",
        "print(a) "
      ],
      "execution_count": null,
      "outputs": []
    },
    {
      "cell_type": "code",
      "metadata": {
        "id": "5PDrnPj8MQK5",
        "colab_type": "code",
        "colab": {}
      },
      "source": [
        "a[3,1,1]"
      ],
      "execution_count": null,
      "outputs": []
    },
    {
      "cell_type": "markdown",
      "metadata": {
        "id": "DwghpeYhMQK7",
        "colab_type": "text"
      },
      "source": [
        "### 10.5. Resizing"
      ]
    },
    {
      "cell_type": "code",
      "metadata": {
        "id": "b_g3wGwQMQK8",
        "colab_type": "code",
        "colab": {}
      },
      "source": [
        "a = np.arange(5)\n",
        "a.resize((10,))"
      ],
      "execution_count": null,
      "outputs": []
    },
    {
      "cell_type": "markdown",
      "metadata": {
        "id": "BTUo6q0aMQK-",
        "colab_type": "text"
      },
      "source": [
        "### 10.6. Sorting"
      ]
    },
    {
      "cell_type": "code",
      "metadata": {
        "id": "12R3ngaWMQK-",
        "colab_type": "code",
        "colab": {}
      },
      "source": [
        "a = np.array([[5,4,3],[2,1,9]])\n",
        "print(a)"
      ],
      "execution_count": null,
      "outputs": []
    },
    {
      "cell_type": "code",
      "metadata": {
        "id": "fIf2savkMQLA",
        "colab_type": "code",
        "colab": {}
      },
      "source": [
        "b = np.sort(a, axis=1)\n",
        "print(b)"
      ],
      "execution_count": null,
      "outputs": []
    },
    {
      "cell_type": "code",
      "metadata": {
        "id": "xQxdMiJKMQLC",
        "colab_type": "code",
        "colab": {}
      },
      "source": [
        "c = np.sort(a, axis=0)\n",
        "print(c)"
      ],
      "execution_count": null,
      "outputs": []
    },
    {
      "cell_type": "code",
      "metadata": {
        "id": "kdFyTYo4MQLG",
        "colab_type": "code",
        "colab": {}
      },
      "source": [
        "d = a.ravel()\n",
        "print(d)"
      ],
      "execution_count": null,
      "outputs": []
    },
    {
      "cell_type": "code",
      "metadata": {
        "id": "Hd2OAI0KMQLJ",
        "colab_type": "code",
        "colab": {}
      },
      "source": [
        "print(np.sort(d))"
      ],
      "execution_count": null,
      "outputs": []
    },
    {
      "cell_type": "markdown",
      "metadata": {
        "id": "MqJz7SbpMQLL",
        "colab_type": "text"
      },
      "source": [
        "## 11. Exercises  \n",
        "\n",
        "*(Type you code in the below cell)*"
      ]
    },
    {
      "cell_type": "markdown",
      "metadata": {
        "id": "gOI7oewVMQLL",
        "colab_type": "text"
      },
      "source": [
        "1. **Write a NumPy program to convert a list of numeric value into a one-dimensional NumPy array.**\n",
        "\n",
        "*Expected Output:*\n",
        "\n",
        "Original List: [12.23, 13.32, 100, 36.32]\n",
        "\n",
        "One-dimensional NumPy array: [ 12.23 13.32 100. 36.32]\n"
      ]
    },
    {
      "cell_type": "code",
      "metadata": {
        "id": "ra2mdxEOMQLM",
        "colab_type": "code",
        "colab": {}
      },
      "source": [
        ""
      ],
      "execution_count": null,
      "outputs": []
    },
    {
      "cell_type": "markdown",
      "metadata": {
        "id": "J-i6ok18MQLO",
        "colab_type": "text"
      },
      "source": [
        "2. **Write a NumPy program to create a 3x3 matrix with values ranging from 2 to 10.**\n",
        "\n",
        "*Expected Output:*\n",
        "\n",
        "[[ 2 3 4]\n",
        "[ 5 6 7]\n",
        "[ 8 9 10]]"
      ]
    },
    {
      "cell_type": "code",
      "metadata": {
        "id": "gM0rtMcZMQLO",
        "colab_type": "code",
        "colab": {}
      },
      "source": [
        ""
      ],
      "execution_count": null,
      "outputs": []
    },
    {
      "cell_type": "markdown",
      "metadata": {
        "id": "yno2Y1O2MQLQ",
        "colab_type": "text"
      },
      "source": [
        "3. *Write a NumPy program to sort an along the first, last axis of an array.**\n",
        "\n",
        "Sample array: [[2,5],[4,4]]\n",
        "    \n",
        "*Expected Output:*\n",
        "    \n",
        "Original array:\n",
        "[[4 6]\n",
        "[2 1]]\n",
        "\n",
        "Sort along the first axis:\n",
        "[[2 1]\n",
        "[4 6]]\n",
        "\n",
        "Sort along the last axis:\n",
        "[[1 2]\n",
        "[4 6]]"
      ]
    },
    {
      "cell_type": "code",
      "metadata": {
        "id": "6Xit1DrMMQLR",
        "colab_type": "code",
        "colab": {}
      },
      "source": [
        ""
      ],
      "execution_count": null,
      "outputs": []
    },
    {
      "cell_type": "markdown",
      "metadata": {
        "id": "c1NVOta_MQLT",
        "colab_type": "text"
      },
      "source": [
        "4. **Write a NumPy program to create a contiguous flattened array.**\n",
        "\n",
        "*Expected Output:*\n",
        "\n",
        "Original array:\n",
        "[[10 20 30]\n",
        "[20 40 50]]\n",
        "\n",
        "New flattened array:\n",
        "[10 20 30 20 40 50]"
      ]
    },
    {
      "cell_type": "code",
      "metadata": {
        "id": "tob3nXpzMQLT",
        "colab_type": "code",
        "colab": {}
      },
      "source": [
        ""
      ],
      "execution_count": null,
      "outputs": []
    },
    {
      "cell_type": "markdown",
      "metadata": {
        "id": "DlDZN_2qMQLW",
        "colab_type": "text"
      },
      "source": [
        " 5. **Write a NumPy program to display all the dates for the month of March, 2017.**\n",
        " \n",
        "*Expected Output:*\n",
        "\n",
        "March, 2017\n",
        "\n",
        "['2017-03-01' '2017-03-02' '2017-03-03' '2017-03-04' '2017-03-05'\n",
        "'2017-03-06' '2017-03-07' '2017-03-08' '2017-03-09' '2017-03-10'\n",
        "'2017-03-11' '2017-03-12' '2017-03-13' '2017-03-14' '2017-03-15'\n",
        "'2017-03-16' '2017-03-17' '2017-03-18' '2017-03-19' '2017-03-20'\n",
        "'2017-03-21' '2017-03-22' '2017-03-23' '2017-03-24' '2017-03-25'\n",
        "'2017-03-26' '2017-03-27' '2017-03-28' '2017-03-29' '2017-03-30'\n",
        "'2017-03-31']"
      ]
    },
    {
      "cell_type": "code",
      "metadata": {
        "id": "b_FLKDxdMQLW",
        "colab_type": "code",
        "colab": {}
      },
      "source": [
        ""
      ],
      "execution_count": null,
      "outputs": []
    },
    {
      "cell_type": "markdown",
      "metadata": {
        "id": "x3p_67hVMQLY",
        "colab_type": "text"
      },
      "source": [
        " 6. **Write a NumPy program to generate six random integers between 10 and 30.**\n",
        "\n",
        "*Expected Output:*\n",
        "    \n",
        "[20 28 27 17 28 29]"
      ]
    },
    {
      "cell_type": "code",
      "metadata": {
        "id": "0fQZJ2HCMQLZ",
        "colab_type": "code",
        "colab": {}
      },
      "source": [
        ""
      ],
      "execution_count": null,
      "outputs": []
    },
    {
      "cell_type": "markdown",
      "metadata": {
        "id": "9XFm8IJ1MQLa",
        "colab_type": "text"
      },
      "source": [
        "7. **Write a NumPy program to create a 5x5 array with random values and find the minimum and maximum values.**\n",
        "\n",
        "*Expected Output*\n",
        "\n",
        "Original Array:\n",
        "    \n",
        "[[ 0.96336355 0.12339131 0.20295196 0.37243578 0.88105252]\n",
        "[ 0.93228246 0.67470158 0.38103235 0.32242645 0.40610231]\n",
        "[ 0.3113495 0.31688 0.79189089 0.08676434 0.60829874]\n",
        "[ 0.30360149 0.94316317 0.98142491 0.77222542 0.51532195]\n",
        "[ 0.97392305 0.16669609 0.81377917 0.2165645 0.00121611]]\n",
        "\n",
        "Minimum and Maximum Values:\n",
        "    \n",
        "0.00121610921757 0.981424910368"
      ]
    },
    {
      "cell_type": "code",
      "metadata": {
        "id": "kkM4hqzwMQLb",
        "colab_type": "code",
        "colab": {}
      },
      "source": [
        ""
      ],
      "execution_count": null,
      "outputs": []
    },
    {
      "cell_type": "markdown",
      "metadata": {
        "id": "NvUOl4m7MQLd",
        "colab_type": "text"
      },
      "source": [
        "8. **Write a NumPy program to get the powers of an array values element-wise.**\n",
        "\n",
        "Note: First array elements raised to powers from second array\n",
        "    \n",
        "*Expected Output:*\n",
        "    \n",
        "Original array\n",
        "\n",
        "[0 1 2 3 4 5 6]\n",
        "\n",
        "First array elements raised to powers from second array, element-wise:\n",
        "    \n",
        "[ 0 1 8 27 64 125 216]"
      ]
    },
    {
      "cell_type": "code",
      "metadata": {
        "id": "9XVw--ulMQLe",
        "colab_type": "code",
        "colab": {}
      },
      "source": [
        ""
      ],
      "execution_count": null,
      "outputs": []
    },
    {
      "cell_type": "markdown",
      "metadata": {
        "id": "p1LoEcrkMQLi",
        "colab_type": "text"
      },
      "source": [
        "9. **Write a NumPy program to create a structured array from given student name, height, class and their data types. Now sort the array on height.**\n",
        "\n",
        "*Expected Output:*\n",
        "\n",
        "Original array:\n",
        "\n",
        "[(b'James', 5, 48.5 ) (b'Nail', 6, 52.5 ) (b'Paul', 5, 42.1 )\n",
        "(b'Pit', 5, 40.11)]\n",
        "\n",
        "Sort by height\n",
        "\n",
        "[(b'Pit', 5, 40.11) (b'Paul', 5, 42.1 ) (b'James', 5, 48.5 )\n",
        "(b'Nail', 6, 52.5 )]"
      ]
    },
    {
      "cell_type": "code",
      "metadata": {
        "id": "HkAeWsIfMQLj",
        "colab_type": "code",
        "colab": {}
      },
      "source": [
        ""
      ],
      "execution_count": null,
      "outputs": []
    },
    {
      "cell_type": "markdown",
      "metadata": {
        "id": "I9_z3GUDMQLq",
        "colab_type": "text"
      },
      "source": [
        "10. **Write a NumPy program to sort the student id with increasing height of the students from given students id and height. Print the integer indices that describes the sort order by multiple columns and the sorted data.**\n",
        "\n",
        "*Expected Output:*\n",
        "\n",
        "Sorted indices\n",
        "\n",
        "[4 0 5 3 6 1 2]\n",
        "\n",
        "Sorted data:\n",
        "\n",
        "1682 38.0\n",
        "1023 40.0\n",
        "5241 40.0\n",
        "1671 41.0\n",
        "4532 42.0\n",
        "5202 42.0\n",
        "6230 45.0"
      ]
    },
    {
      "cell_type": "code",
      "metadata": {
        "id": "mS0PQ81-MQLs",
        "colab_type": "code",
        "colab": {}
      },
      "source": [
        ""
      ],
      "execution_count": null,
      "outputs": []
    }
  ]
}